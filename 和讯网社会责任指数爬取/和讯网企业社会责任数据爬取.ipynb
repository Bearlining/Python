{
 "cells": [
  {
   "cell_type": "code",
   "execution_count": 1,
   "metadata": {},
   "outputs": [],
   "source": [
    "#浏览器头部\n",
    "USER_AGENT = [\n",
    "    \"Mozilla/5.0 (Macintosh; U; Intel Mac OS X 10_6_8; en-us) AppleWebKit/534.50 (KHTML, like Gecko) Version/5.1 Safari/534.50\",\n",
    "    \"Mozilla/5.0 (Windows; U; Windows NT 6.1; en-us) AppleWebKit/534.50 (KHTML, like Gecko) Version/5.1 Safari/534.50\",\n",
    "    \"Mozilla/5.0 (Windows NT 10.0; WOW64; rv:38.0) Gecko/20100101 Firefox/38.0\",\n",
    "    \"Mozilla/5.0 (Windows NT 10.0; WOW64; Trident/7.0; .NET4.0C; .NET4.0E; .NET CLR 2.0.50727; .NET CLR 3.0.30729; .NET CLR 3.5.30729; InfoPath.3; rv:11.0) like Gecko\",\n",
    "    \"Mozilla/5.0 (compatible; MSIE 9.0; Windows NT 6.1; Trident/5.0)\",\n",
    "    \"Mozilla/4.0 (compatible; MSIE 8.0; Windows NT 6.0; Trident/4.0)\",\n",
    "    \"Mozilla/4.0 (compatible; MSIE 7.0; Windows NT 6.0)\",\n",
    "    \"Mozilla/4.0 (compatible; MSIE 6.0; Windows NT 5.1)\",\n",
    "    \"Mozilla/5.0 (Macintosh; Intel Mac OS X 10.6; rv:2.0.1) Gecko/20100101 Firefox/4.0.1\",\n",
    "    \"Mozilla/5.0 (Windows NT 6.1; rv:2.0.1) Gecko/20100101 Firefox/4.0.1\",\n",
    "    \"Opera/9.80 (Macintosh; Intel Mac OS X 10.6.8; U; en) Presto/2.8.131 Version/11.11\",\n",
    "    \"Opera/9.80 (Windows NT 6.1; U; en) Presto/2.8.131 Version/11.11\",\n",
    "    \"Mozilla/5.0 (Macintosh; Intel Mac OS X 10_7_0) AppleWebKit/535.11 (KHTML, like Gecko) Chrome/17.0.963.56 Safari/535.11\",\n",
    "    \"Mozilla/4.0 (compatible; MSIE 7.0; Windows NT 5.1; Maxthon 2.0)\",\n",
    "    \"Mozilla/4.0 (compatible; MSIE 7.0; Windows NT 5.1; TencentTraveler 4.0)\",\n",
    "    \"Mozilla/4.0 (compatible; MSIE 7.0; Windows NT 5.1)\",\n",
    "    \"Mozilla/4.0 (compatible; MSIE 7.0; Windows NT 5.1; The World)\",\n",
    "    \"Mozilla/4.0 (compatible; MSIE 7.0; Windows NT 5.1; Trident/4.0; SE 2.X MetaSr 1.0; SE 2.X MetaSr 1.0; .NET CLR 2.0.50727; SE 2.X MetaSr 1.0)\",\n",
    "    \"Mozilla/4.0 (compatible; MSIE 7.0; Windows NT 5.1; 360SE)\",\n",
    "    \"Mozilla/4.0 (compatible; MSIE 7.0; Windows NT 5.1; Avant Browser)\",\n",
    "    \"Mozilla/4.0 (compatible; MSIE 7.0; Windows NT 5.1)\",\n",
    "    \"Mozilla/5.0 (iPhone; U; CPU iPhone OS 4_3_3 like Mac OS X; en-us) AppleWebKit/533.17.9 (KHTML, like Gecko) Version/5.0.2 Mobile/8J2 Safari/6533.18.5\",\n",
    "    \"Mozilla/5.0 (iPod; U; CPU iPhone OS 4_3_3 like Mac OS X; en-us) AppleWebKit/533.17.9 (KHTML, like Gecko) Version/5.0.2 Mobile/8J2 Safari/6533.18.5\",\n",
    "    \"Mozilla/5.0 (iPad; U; CPU OS 4_3_3 like Mac OS X; en-us) AppleWebKit/533.17.9 (KHTML, like Gecko) Version/5.0.2 Mobile/8J2 Safari/6533.18.5\",\n",
    "    \"Mozilla/5.0 (Linux; U; Android 2.3.7; en-us; Nexus One Build/FRF91) AppleWebKit/533.1 (KHTML, like Gecko) Version/4.0 Mobile Safari/533.1\",\n",
    "    \"MQQBrowser/26 Mozilla/5.0 (Linux; U; Android 2.3.7; zh-cn; MB200 Build/GRJ22; CyanogenMod-7) AppleWebKit/533.1 (KHTML, like Gecko) Version/4.0 Mobile Safari/533.1\",\n",
    "    \"Opera/9.80 (Android 2.3.4; Linux; Opera Mobi/build-1107180945; U; en-GB) Presto/2.8.149 Version/11.10\",\n",
    "    \"Mozilla/5.0 (Linux; U; Android 3.0; en-us; Xoom Build/HRI39) AppleWebKit/534.13 (KHTML, like Gecko) Version/4.0 Safari/534.13\",\n",
    "    \"Mozilla/5.0 (BlackBerry; U; BlackBerry 9800; en) AppleWebKit/534.1+ (KHTML, like Gecko) Version/6.0.0.337 Mobile Safari/534.1+\",\n",
    "    \"Mozilla/5.0 (hp-tablet; Linux; hpwOS/3.0.0; U; en-US) AppleWebKit/534.6 (KHTML, like Gecko) wOSBrowser/233.70 Safari/534.6 TouchPad/1.0\",\n",
    "    \"Mozilla/5.0 (SymbianOS/9.4; Series60/5.0 NokiaN97-1/20.0.019; Profile/MIDP-2.1 Configuration/CLDC-1.1) AppleWebKit/525 (KHTML, like Gecko) BrowserNG/7.1.18124\",\n",
    "    \"Mozilla/5.0 (compatible; MSIE 9.0; Windows Phone OS 7.5; Trident/5.0; IEMobile/9.0; HTC; Titan)\",\n",
    "    \"UCWEB7.0.2.37/28/999\",\n",
    "    \"NOKIA5700/ UCWEB7.0.2.37/28/999\",\n",
    "    \"Openwave/ UCWEB7.0.2.37/28/999\",\n",
    "    \"Mozilla/4.0 (compatible; MSIE 6.0; ) Opera/UCWEB7.0.2.37/28/999\",\n",
    "    # iPhone 6：\n",
    "    \"Mozilla/6.0 (iPhone; CPU iPhone OS 8_0 like Mac OS X) AppleWebKit/536.26 (KHTML, like Gecko) Version/8.0 Mobile/10A5376e Safari/8536.25\",\n",
    "\n",
    "]\n",
    "# 代理ip\n",
    "IPS=[{'HTTPS': '106.75.226.36:808', 'HTTP': '61.135.217.7:80'},\n",
    " {'HTTPS': '106.75.164.15:3128', 'HTTP': '118.190.95.35:9001'},\n",
    " {'HTTPS': '101.204.70.51:808', 'HTTP': '124.235.181.175:80'},\n",
    " {'HTTPS': '110.73.44.89:8123', 'HTTP': '110.73.6.70:8123'},\n",
    " {'HTTPS': '182.88.179.108:8123', 'HTTP': '110.73.0.121:8123'},\n",
    " {'HTTPS': '106.75.164.15:3128', 'HTTP': '61.135.217.7:80'},\n",
    " {'HTTPS': '106.75.226.36:808', 'HTTP': '222.94.145.158:808'},\n",
    " {'HTTPS': '121.31.192.106:8123', 'HTTP': '118.190.95.35:9001'},\n",
    " {'HTTPS': '106.75.164.15:3128', 'HTTP': '124.235.181.175:80'}\n",
    " ]"
   ]
  },
  {
   "cell_type": "code",
   "execution_count": 2,
   "metadata": {},
   "outputs": [],
   "source": [
    "import requests,json\n",
    "from bs4 import BeautifulSoup\n",
    "import random\n",
    "import pandas as pd\n",
    "import re"
   ]
  },
  {
   "cell_type": "code",
   "execution_count": 5,
   "metadata": {},
   "outputs": [
    {
     "name": "stdout",
     "output_type": "stream",
     "text": [
      "2019年已完成\n",
      "2018年已完成\n",
      "2017年已完成\n",
      "2016年已完成\n",
      "2015年已完成\n",
      "2014年已完成\n",
      "2013年已完成\n",
      "2012年已完成\n",
      "2011年已完成\n",
      "2010年已完成\n"
     ]
    }
   ],
   "source": [
    "data = pd.DataFrame(columns = ['股票代码','日期','总得分','评级','股东责任','员工责任','供应商、客户和消费者权益责任','环境责任','社会责任']) # 建一张空表\n",
    "pages = [201,202,203,184,180,176,158,143,134,120] #试了好久没办法自动提取每年的最大页码，只好手动设置了哈哈哈哈哈，好low\n",
    "for j in range(2019,2009,-1): # 年份循环\n",
    "    page = pages[2019 - j]\n",
    "    for i in range(1,page): # 每年范围内的不同页循环\n",
    "        url = 'http://stockdata.stock.hexun.com/zrbg/data/zrbList.aspx?date=%d-12-31&count=20&pname=20&titType=null&page=%d' %(j,i)\n",
    "        html=requests.get(url,headers={'User-Agent':random.choice(USER_AGENT)},proxies=random.choice(IPS)) # 设置随机ip代理放反爬\n",
    "        soup=BeautifulSoup(html.text,'html.parser')\n",
    "        pat1 = 'code=(\\d{6})'\n",
    "        pat2 = 'date=(\\d{4}-\\d{2}-\\d{2})'\n",
    "        pat3 = \"stockNumber:'(-?\\d*.\\d*)'\"\n",
    "        pat4 = \"industryrate:'(-?\\d*.\\d*)'\"\n",
    "        pat5 = \"Pricelimit:'(\\w)'\"\n",
    "        pat6 = \"lootingchips:'(-?\\d*.\\d*)'\"\n",
    "        pat7 = \"Scramble:'(-?\\d*.\\d*)'\"\n",
    "        pat8 = \"rscramble:'(-?\\d*.\\d*)'\"\n",
    "        pat9 = \"Strongstock:'(-?\\d*.\\d*)'\"\n",
    "        data_code = re.compile(pat1).findall(soup.text)\n",
    "        data_date = re.compile(pat2).findall(soup.text)\n",
    "        data_gudong = re.compile(pat3).findall(soup.text)\n",
    "        data_total = re.compile(pat4).findall(soup.text)\n",
    "        data_rank = re.compile(pat5).findall(soup.text)\n",
    "        data_staff = re.compile(pat6).findall(soup.text)\n",
    "        data_scc = re.compile(pat7).findall(soup.text)\n",
    "        data_env = re.compile(pat8).findall(soup.text)\n",
    "        data_social = re.compile(pat9).findall(soup.text)\n",
    "        datas = pd.DataFrame(columns = ['股票代码'],data = data_code)\n",
    "        datas['日期'] = data_date\n",
    "        datas['总得分'] = data_total\n",
    "        datas['评级'] = data_rank\n",
    "        datas['股东责任'] = data_gudong\n",
    "        datas['员工责任'] = data_staff\n",
    "        datas['供应商、客户和消费者权益责任'] = data_scc\n",
    "        datas['环境责任'] = data_env\n",
    "        datas['社会责任'] = data_social\n",
    "        data = data.append(datas)\n",
    "    print(str(j)+'年已完成')\n",
    "data.to_excel('和讯网社会责任指数.xlsx',index=False) "
   ]
  },
  {
   "cell_type": "code",
   "execution_count": 93,
   "metadata": {},
   "outputs": [
    {
     "data": {
      "text/html": [
       "<div>\n",
       "<style scoped>\n",
       "    .dataframe tbody tr th:only-of-type {\n",
       "        vertical-align: middle;\n",
       "    }\n",
       "\n",
       "    .dataframe tbody tr th {\n",
       "        vertical-align: top;\n",
       "    }\n",
       "\n",
       "    .dataframe thead th {\n",
       "        text-align: right;\n",
       "    }\n",
       "</style>\n",
       "<table border=\"1\" class=\"dataframe\">\n",
       "  <thead>\n",
       "    <tr style=\"text-align: right;\">\n",
       "      <th></th>\n",
       "      <th>股票代码</th>\n",
       "      <th>日期</th>\n",
       "      <th>股东责任</th>\n",
       "      <th>总得分</th>\n",
       "      <th>评级</th>\n",
       "      <th>员工责任</th>\n",
       "      <th>社会责任</th>\n",
       "    </tr>\n",
       "  </thead>\n",
       "  <tbody>\n",
       "  </tbody>\n",
       "</table>\n",
       "</div>"
      ],
      "text/plain": [
       "Empty DataFrame\n",
       "Columns: [股票代码, 日期, 股东责任, 总得分, 评级, 员工责任, 社会责任]\n",
       "Index: []"
      ]
     },
     "execution_count": 93,
     "metadata": {},
     "output_type": "execute_result"
    }
   ],
   "source": [
    "data = pd.DataFrame(columns = ['股票代码','日期','股东责任','总得分','评级','员工责任','社会责任'])\n",
    "data"
   ]
  },
  {
   "cell_type": "code",
   "execution_count": 117,
   "metadata": {
    "scrolled": false
   },
   "outputs": [
    {
     "data": {
      "text/html": [
       "<div>\n",
       "<style scoped>\n",
       "    .dataframe tbody tr th:only-of-type {\n",
       "        vertical-align: middle;\n",
       "    }\n",
       "\n",
       "    .dataframe tbody tr th {\n",
       "        vertical-align: top;\n",
       "    }\n",
       "\n",
       "    .dataframe thead th {\n",
       "        text-align: right;\n",
       "    }\n",
       "</style>\n",
       "<table border=\"1\" class=\"dataframe\">\n",
       "  <thead>\n",
       "    <tr style=\"text-align: right;\">\n",
       "      <th></th>\n",
       "      <th>股票代码</th>\n",
       "      <th>日期</th>\n",
       "      <th>股东责任</th>\n",
       "      <th>总得分</th>\n",
       "      <th>评级</th>\n",
       "      <th>员工责任</th>\n",
       "      <th>社会责任</th>\n",
       "    </tr>\n",
       "  </thead>\n",
       "  <tbody>\n",
       "  </tbody>\n",
       "</table>\n",
       "</div>"
      ],
      "text/plain": [
       "Empty DataFrame\n",
       "Columns: [股票代码, 日期, 股东责任, 总得分, 评级, 员工责任, 社会责任]\n",
       "Index: []"
      ]
     },
     "execution_count": 117,
     "metadata": {},
     "output_type": "execute_result"
    }
   ],
   "source": [
    "data = pd.DataFrame(columns = ['股票代码','日期','股东责任','总得分','评级','员工责任','社会责任'])\n",
    "for i in range(210,250):\n",
    "    url = 'http://stockdata.stock.hexun.com/zrbg/data/zrbList.aspx?date=2019-12-31&count=20&pname=20&titType=null&page=%d' %(i)\n",
    "    html=requests.get(url,headers={'User-Agent':random.choice(USER_AGENT)},proxies=random.choice(IPS))\n",
    "    soup=BeautifulSoup(html.text,'html.parser')\n",
    "    pat1 = 'code=(\\d{6})'\n",
    "    pat2 = 'date=(\\d{4}-\\d{2}-\\d{2})'\n",
    "    pat3 = \"stockNumber:'(-?\\d*.\\d*)'\"\n",
    "    pat4 = \"industryrate:'(-?\\d*.\\d*)'\"\n",
    "    pat5 = \"Pricelimit:'(\\w)'\"\n",
    "    pat6 = \"lootingchips:'(-?\\d*.\\d*)'\"\n",
    "    pat7 = \"Strongstock:'(-?\\d*.\\d*)'\"\n",
    "    data_code = re.compile(pat1).findall(soup.text)\n",
    "    data_date = re.compile(pat2).findall(soup.text)\n",
    "    data_gudong = re.compile(pat3).findall(soup.text)\n",
    "    data_total = re.compile(pat4).findall(soup.text)\n",
    "    data_rank = re.compile(pat5).findall(soup.text)\n",
    "    data_staff = re.compile(pat6).findall(soup.text)\n",
    "    data_social = re.compile(pat7).findall(soup.text)\n",
    "    datas = pd.DataFrame(columns = ['股票代码'],data = data_code)\n",
    "    datas['日期'] = data_date\n",
    "    datas['股东责任'] = data_gudong\n",
    "    datas['总得分'] = data_total\n",
    "    datas['评级'] = data_rank\n",
    "    datas['员工责任'] = data_staff\n",
    "    datas['社会责任'] = data_social\n",
    "    data2019 = data.append(datas)\n",
    "data2019 "
   ]
  },
  {
   "cell_type": "code",
   "execution_count": 126,
   "metadata": {},
   "outputs": [
    {
     "name": "stdout",
     "output_type": "stream",
     "text": [
      "2019年\n",
      "2018年\n",
      "2017年\n",
      "2016年\n",
      "2015年\n",
      "2014年\n",
      "2013年\n",
      "2012年\n",
      "2011年\n",
      "2010年\n"
     ]
    }
   ],
   "source": [
    "pages = [201,202,203,184,180,176,158,143,134,120]\n",
    "for j in range(2019,2009,-1):\n",
    "    print(str(j)+'年')"
   ]
  },
  {
   "cell_type": "markdown",
   "metadata": {},
   "source": [
    "# 用到的网址"
   ]
  },
  {
   "cell_type": "markdown",
   "metadata": {},
   "source": [
    "http://stockdata.stock.hexun.com/zrbg/data/zrbList.aspx?date=2019-12-31&count=20&pname=20&titType=null&page=1\n",
    "\n",
    "https://blog.csdn.net/qq_43389959/article/details/83242924?utm_medium=distribute.pc_relevant.none-task-blog-BlogCommendFromMachineLearnPai2-2.control&depth_1-utm_source=distribute.pc_relevant.none-task-blog-BlogCommendFromMachineLearnPai2-2.control\n",
    "\n",
    "https://www.runoob.com/python/python-for-loop.html\n",
    "\n",
    "https://blog.csdn.net/mygodit/article/details/97640770\n",
    "\n",
    "https://www.cnblogs.com/rrttp/p/8108188.html\n",
    "\n",
    "https://blog.csdn.net/roamer314/article/details/80886075?utm_medium=distribute.pc_relevant.none-task-blog-searchFromBaidu-3.control&depth_1-utm_source=distribute.pc_relevant.none-task-blog-searchFromBaidu-3.control"
   ]
  }
 ],
 "metadata": {
  "kernelspec": {
   "display_name": "Python 3",
   "language": "python",
   "name": "python3"
  },
  "language_info": {
   "codemirror_mode": {
    "name": "ipython",
    "version": 3
   },
   "file_extension": ".py",
   "mimetype": "text/x-python",
   "name": "python",
   "nbconvert_exporter": "python",
   "pygments_lexer": "ipython3",
   "version": "3.7.6"
  }
 },
 "nbformat": 4,
 "nbformat_minor": 4
}
